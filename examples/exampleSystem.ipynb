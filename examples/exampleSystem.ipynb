{
 "cells": [
  {
   "cell_type": "code",
   "execution_count": 3,
   "metadata": {},
   "outputs": [
    {
     "name": "stdout",
     "output_type": "stream",
     "text": "c:\\Users\\benja\\OneDrive - ETHZ\\PhD\\Code\\Ensembler_native_github\\examples/..\n"
    }
   ],
   "source": [
    "import os, sys\n",
    "path = os.getcwd()+\"/..\"\n",
    "print(path)\n",
    "sys.path.append(path)    #give here the path to the folder containing the package,default does not work!!\n",
    "\n",
    "\n",
    "import numpy as np\n",
    "import pandas as pd\n",
    "\n",
    "import matplotlib.pyplot as plt\n",
    "from mpl_toolkits.mplot3d import Axes3D\n",
    "from matplotlib import cm\n",
    "from matplotlib import colorbar\n",
    "%matplotlib inline\n",
    "\n",
    "from ensembler import integrator as integ\n",
    "import ensembler.system as system\n",
    "import ensembler.potentials.OneD as pot\n"
   ]
  },
  {
   "cell_type": "code",
   "execution_count": 4,
   "metadata": {},
   "outputs": [],
   "source": [
    "integrator = integ.metropolisMonteCarloIntegrator()\n",
    "sys=[system.perturbedSystem(lam=0.0, potential=pot.pertHarmonicOsc(fc=5.0, alpha=0.0, gamma=5.0), integrator=integrator), \n",
    "     system.perturbedSystem(lam=1.0, potential=pot.pertHarmonicOsc(fc=5.0, alpha=0.0, gamma=5.0), integrator=integrator)]\n"
   ]
  },
  {
   "cell_type": "code",
   "execution_count": 5,
   "metadata": {},
   "outputs": [
    {
     "name": "stdout",
     "output_type": "stream",
     "text": "Progress: \t0%10%20%30%40%50%60%70%80%90%100%\nProgress: \t0%10%20%30%40%50%60%70%80%90%100%\n"
    }
   ],
   "source": [
    "traj=[]\n",
    "for s in sys:\n",
    "    s.set_position(0.0)\n",
    "    s.simulate(10000, withdrawTraj=True)\n",
    "    \n",
    "    t= s.getTrajectory()\n",
    "    t.position = np.array(t.position.values.tolist()).flatten()\n",
    "    t.dhdlam =  pd.Series(s.potential.dhdlam(np.array(t.position.values.tolist()).flatten()))\n",
    "    traj.append(t)\n"
   ]
  },
  {
   "cell_type": "code",
   "execution_count": 6,
   "metadata": {},
   "outputs": [
    {
     "data": {
      "text/html": "<div>\n<style scoped>\n    .dataframe tbody tr th:only-of-type {\n        vertical-align: middle;\n    }\n\n    .dataframe tbody tr th {\n        vertical-align: top;\n    }\n\n    .dataframe thead th {\n        text-align: right;\n    }\n</style>\n<table border=\"1\" class=\"dataframe\">\n  <thead>\n    <tr style=\"text-align: right;\">\n      <th></th>\n      <th>position</th>\n      <th>temperature</th>\n      <th>totEnergy</th>\n      <th>totPotEnergy</th>\n      <th>totKinEnergy</th>\n      <th>dhdpos</th>\n      <th>velocity</th>\n      <th>lam</th>\n      <th>dhdlam</th>\n    </tr>\n  </thead>\n  <tbody>\n    <tr>\n      <th>0</th>\n      <td>0.000000</td>\n      <td>298.0</td>\n      <td>0.000000</td>\n      <td>0.000000</td>\n      <td>NaN</td>\n      <td>NaN</td>\n      <td>[-0.8704607540406142]</td>\n      <td>0.0</td>\n      <td>-0.0</td>\n    </tr>\n    <tr>\n      <th>1</th>\n      <td>-0.132749</td>\n      <td>298.0</td>\n      <td>0.044056</td>\n      <td>0.044056</td>\n      <td>NaN</td>\n      <td>-0.132749</td>\n      <td>None</td>\n      <td>0.0</td>\n      <td>0.0</td>\n    </tr>\n    <tr>\n      <th>2</th>\n      <td>0.320193</td>\n      <td>298.0</td>\n      <td>0.256309</td>\n      <td>0.256309</td>\n      <td>NaN</td>\n      <td>0.452942</td>\n      <td>None</td>\n      <td>0.0</td>\n      <td>-0.0</td>\n    </tr>\n    <tr>\n      <th>3</th>\n      <td>-0.108937</td>\n      <td>298.0</td>\n      <td>0.029668</td>\n      <td>0.029668</td>\n      <td>NaN</td>\n      <td>-0.429129</td>\n      <td>None</td>\n      <td>0.0</td>\n      <td>0.0</td>\n    </tr>\n    <tr>\n      <th>4</th>\n      <td>-0.465209</td>\n      <td>298.0</td>\n      <td>0.541049</td>\n      <td>0.541049</td>\n      <td>NaN</td>\n      <td>-0.356273</td>\n      <td>None</td>\n      <td>0.0</td>\n      <td>0.0</td>\n    </tr>\n  </tbody>\n</table>\n</div>",
      "text/plain": "   position  temperature  totEnergy  totPotEnergy  totKinEnergy    dhdpos  \\\n0  0.000000        298.0   0.000000      0.000000           NaN       NaN   \n1 -0.132749        298.0   0.044056      0.044056           NaN -0.132749   \n2  0.320193        298.0   0.256309      0.256309           NaN  0.452942   \n3 -0.108937        298.0   0.029668      0.029668           NaN -0.429129   \n4 -0.465209        298.0   0.541049      0.541049           NaN -0.356273   \n\n                velocity  lam  dhdlam  \n0  [-0.8704607540406142]  0.0    -0.0  \n1                   None  0.0     0.0  \n2                   None  0.0    -0.0  \n3                   None  0.0     0.0  \n4                   None  0.0     0.0  "
     },
     "execution_count": 6,
     "metadata": {},
     "output_type": "execute_result"
    }
   ],
   "source": [
    "traj[0].head()"
   ]
  },
  {
   "cell_type": "code",
   "execution_count": 7,
   "metadata": {},
   "outputs": [
    {
     "name": "stderr",
     "output_type": "stream",
     "text": "No handles with labels found to put in legend.\n"
    },
    {
     "data": {
      "text/plain": "<matplotlib.legend.Legend at 0x17f37f57448>"
     },
     "execution_count": 7,
     "metadata": {},
     "output_type": "execute_result"
    }
   ],
   "source": [
    "%matplotlib inline\n",
    "fig, ax=plt.subplots(3, 2)\n",
    "labels=['Position /nm', 'Potential Energy /$\\mathrm{kJ}\\, \\mathrm{mol}^{-1}$', '$ \\partial \\mathcal{H} \\\n",
    "/ \\partial \\lambda  \\, / \\mathrm{kJ} \\, \\mathrm{mol}^{-1}$']\n",
    "for s in range(2):\n",
    "    hist=[]\n",
    "    for i, j in enumerate(['position', 'totPotEnergy', ]): #'dhdlam']):\n",
    "        hist.append(np.histogram(traj[s][j][0], bins=30, density=1))\n",
    "        ax[i,0].plot(traj[s].index, traj[s][j],'.', label='$\\lambda={:d}$'.format(s))\n",
    "        ax[i,0].set_ylabel(labels[i])\n",
    "        ax[i,1].plot(hist[i][0], hist[i][1][:-1]+(hist[i][1][1]-hist[i][1][0])/2.0,label='$\\lambda={:d}$'.format(s))\n",
    "        ax[i,1].legend()\n",
    "ax[2,0].set_xlabel('Step')\n",
    "ax[2,1].set_xlabel('Density')\n",
    "ax[2,1].set_ylim(0,20)\n",
    "ax[2,1].legend()"
   ]
  },
  {
   "cell_type": "code",
   "execution_count": null,
   "metadata": {},
   "outputs": [],
   "source": []
  }
 ],
 "metadata": {
  "kernelspec": {
   "display_name": "Python 3",
   "language": "python",
   "name": "python3"
  },
  "language_info": {
   "codemirror_mode": {
    "name": "ipython",
    "version": 3
   },
   "file_extension": ".py",
   "mimetype": "text/x-python",
   "name": "python",
   "nbconvert_exporter": "python",
   "pygments_lexer": "ipython3",
   "version": "3.7.5-final"
  }
 },
 "nbformat": 4,
 "nbformat_minor": 2
}