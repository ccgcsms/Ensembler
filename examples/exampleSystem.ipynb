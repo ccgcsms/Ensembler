{
 "cells": [
  {
   "cell_type": "code",
   "execution_count": 12,
   "metadata": {
    "collapsed": true
   },
   "outputs": [
    {
     "name": "stdout",
     "output_type": "stream",
     "text": [
      "None\n"
     ]
    }
   ],
   "source": [
    "import os, sys\n",
    "path = os.chdir(os.getcwd()+\"/..\")\n",
    "print(path)\n",
    "sys.path.append(path)    #give here the path to the folder containing the package,default does not work!!\n",
    "\n",
    "\n",
    "import numpy as np\n",
    "import pandas as pd\n",
    "from Ensembler.src import integrator as integ\n",
    "import Ensembler.src.system as system\n",
    "import Ensembler.src.potentials.OneD as pot\n",
    "# Ensembler.src.Ensembler as cvb\n",
    "\n",
    "import matplotlib.pyplot as plt\n",
    "from mpl_toolkits.mplot3d import Axes3D\n",
    "from matplotlib import cm\n",
    "from matplotlib import colorbar\n",
    "%matplotlib inline"
   ]
  },
  {
   "cell_type": "code",
   "execution_count": 13,
   "metadata": {},
   "outputs": [
    {
     "name": "stdout",
     "output_type": "stream",
     "text": [
      "Ensembler.src.potentials._baseclassesin _set_singlePos_mode  1\n",
      "STATES ARE BIIG\n",
      "[-1.50667736]\n",
      "[[-1.50667736]]\n",
      "Ensembler.src.potentials._baseclassesin _set_singlePos_mode  1\n",
      "STATES ARE BIIG\n",
      "[2.53472107]\n",
      "[[2.53472107]]\n"
     ]
    }
   ],
   "source": [
    "integrator = integ.metropolisMonteCarloIntegrator()\n",
    "sys=[system.perturbedSystem(lam=0.0, potential=pot.pertHarmonicOsc(fc=5.0, alpha=0.0, gamma=5.0), integrator=integrator), \n",
    "     system.perturbedSystem(lam=1.0, potential=pot.pertHarmonicOsc(fc=5.0, alpha=0.0, gamma=5.0), integrator=integrator)]\n"
   ]
  },
  {
   "cell_type": "code",
   "execution_count": 17,
   "metadata": {},
   "outputs": [
    {
     "name": "stdout",
     "output_type": "stream",
     "text": [
      "0.0\n",
      "[[-1.50667736]]\n",
      "Progress: \t0%\t10%\t20%\t30%\t40%\t50%\t60%\t70%\t80%\t90%\t100%\n",
      "0.0\n",
      "[[2.53472107]]\n",
      "Progress: \t0%\t10%\t20%\t30%\t40%\t50%\t60%\t70%\t80%\t90%\t100%\n"
     ]
    }
   ],
   "source": [
    "traj=[]\n",
    "for s in sys:\n",
    "    s.set_position(0.0)\n",
    "    s.simulate(10000, withdrawTraj=True)\n",
    "    \n",
    "    t= s.getTrajectory()\n",
    "    t.position = np.array(t.position.values.tolist()).flatten()\n",
    "    t.dhdlam =  pd.Series(s.potential.dhdlam(np.array(t.position.values.tolist()).flatten()))\n",
    "    traj.append(t)\n"
   ]
  },
  {
   "cell_type": "code",
   "execution_count": 18,
   "metadata": {},
   "outputs": [
    {
     "data": {
      "text/html": [
       "<div>\n",
       "<style scoped>\n",
       "    .dataframe tbody tr th:only-of-type {\n",
       "        vertical-align: middle;\n",
       "    }\n",
       "\n",
       "    .dataframe tbody tr th {\n",
       "        vertical-align: top;\n",
       "    }\n",
       "\n",
       "    .dataframe thead th {\n",
       "        text-align: right;\n",
       "    }\n",
       "</style>\n",
       "<table border=\"1\" class=\"dataframe\">\n",
       "  <thead>\n",
       "    <tr style=\"text-align: right;\">\n",
       "      <th></th>\n",
       "      <th>position</th>\n",
       "      <th>temperature</th>\n",
       "      <th>totEnergy</th>\n",
       "      <th>totPotEnergy</th>\n",
       "      <th>totKinEnergy</th>\n",
       "      <th>dhdpos</th>\n",
       "      <th>velocity</th>\n",
       "      <th>lam</th>\n",
       "      <th>dhdlam</th>\n",
       "    </tr>\n",
       "  </thead>\n",
       "  <tbody>\n",
       "    <tr>\n",
       "      <th>0</th>\n",
       "      <td>-1.506677</td>\n",
       "      <td>298.0</td>\n",
       "      <td>5.675192</td>\n",
       "      <td>5.675192</td>\n",
       "      <td>NaN</td>\n",
       "      <td>-0.190791</td>\n",
       "      <td>[-2.1649533726393178]</td>\n",
       "      <td>0.0</td>\n",
       "      <td>0.0</td>\n",
       "    </tr>\n",
       "    <tr>\n",
       "      <th>1</th>\n",
       "      <td>-0.841548</td>\n",
       "      <td>298.0</td>\n",
       "      <td>1.770506</td>\n",
       "      <td>1.770506</td>\n",
       "      <td>NaN</td>\n",
       "      <td>0.665130</td>\n",
       "      <td>None</td>\n",
       "      <td>0.0</td>\n",
       "      <td>0.0</td>\n",
       "    </tr>\n",
       "    <tr>\n",
       "      <th>2</th>\n",
       "      <td>-1.204817</td>\n",
       "      <td>298.0</td>\n",
       "      <td>3.628963</td>\n",
       "      <td>3.628963</td>\n",
       "      <td>NaN</td>\n",
       "      <td>-0.363270</td>\n",
       "      <td>None</td>\n",
       "      <td>0.0</td>\n",
       "      <td>0.0</td>\n",
       "    </tr>\n",
       "    <tr>\n",
       "      <th>3</th>\n",
       "      <td>-1.564710</td>\n",
       "      <td>298.0</td>\n",
       "      <td>6.120790</td>\n",
       "      <td>6.120790</td>\n",
       "      <td>NaN</td>\n",
       "      <td>-0.359892</td>\n",
       "      <td>None</td>\n",
       "      <td>0.0</td>\n",
       "      <td>0.0</td>\n",
       "    </tr>\n",
       "    <tr>\n",
       "      <th>4</th>\n",
       "      <td>-0.804974</td>\n",
       "      <td>298.0</td>\n",
       "      <td>1.619958</td>\n",
       "      <td>1.619958</td>\n",
       "      <td>NaN</td>\n",
       "      <td>0.759736</td>\n",
       "      <td>None</td>\n",
       "      <td>0.0</td>\n",
       "      <td>0.0</td>\n",
       "    </tr>\n",
       "  </tbody>\n",
       "</table>\n",
       "</div>"
      ],
      "text/plain": [
       "   position  temperature  totEnergy  totPotEnergy  totKinEnergy    dhdpos  \\\n",
       "0 -1.506677        298.0   5.675192      5.675192           NaN -0.190791   \n",
       "1 -0.841548        298.0   1.770506      1.770506           NaN  0.665130   \n",
       "2 -1.204817        298.0   3.628963      3.628963           NaN -0.363270   \n",
       "3 -1.564710        298.0   6.120790      6.120790           NaN -0.359892   \n",
       "4 -0.804974        298.0   1.619958      1.619958           NaN  0.759736   \n",
       "\n",
       "                velocity  lam  dhdlam  \n",
       "0  [-2.1649533726393178]  0.0     0.0  \n",
       "1                   None  0.0     0.0  \n",
       "2                   None  0.0     0.0  \n",
       "3                   None  0.0     0.0  \n",
       "4                   None  0.0     0.0  "
      ]
     },
     "execution_count": 18,
     "metadata": {},
     "output_type": "execute_result"
    }
   ],
   "source": [
    "traj[0].head()"
   ]
  },
  {
   "cell_type": "code",
   "execution_count": 19,
   "metadata": {},
   "outputs": [
    {
     "name": "stderr",
     "output_type": "stream",
     "text": [
      "No handles with labels found to put in legend.\n"
     ]
    },
    {
     "data": {
      "text/plain": [
       "<matplotlib.legend.Legend at 0x220c20ad5f8>"
      ]
     },
     "execution_count": 19,
     "metadata": {},
     "output_type": "execute_result"
    },
    {
     "data": {
      "image/png": "[encoded data removed]",
      "text/plain": [
       "<Figure size 432x288 with 6 Axes>"
      ]
     },
     "metadata": {
      "needs_background": "light"
     },
     "output_type": "display_data"
    }
   ],
   "source": [
    "%matplotlib inline\n",
    "fig, ax=plt.subplots(3, 2)\n",
    "labels=['Position /nm', 'Potential Energy /$\\mathrm{kJ}\\, \\mathrm{mol}^{-1}$', '$ \\partial \\mathcal{H} \\\n",
    "/ \\partial \\lambda  \\, / \\mathrm{kJ} \\, \\mathrm{mol}^{-1}$']\n",
    "for s in range(2):\n",
    "    hist=[]\n",
    "    for i, j in enumerate(['position', 'totPotEnergy', ]): #'dhdlam']):\n",
    "        hist.append(np.histogram(traj[s][j][0], bins=30, density=1))\n",
    "        ax[i,0].plot(traj[s].index, traj[s][j],'.', label='$\\lambda={:d}$'.format(s))\n",
    "        ax[i,0].set_ylabel(labels[i])\n",
    "        ax[i,1].plot(hist[i][0], hist[i][1][:-1]+(hist[i][1][1]-hist[i][1][0])/2.0,label='$\\lambda={:d}$'.format(s))\n",
    "        ax[i,1].legend()\n",
    "ax[2,0].set_xlabel('Step')\n",
    "ax[2,1].set_xlabel('Density')\n",
    "ax[2,1].set_ylim(0,20)\n",
    "ax[2,1].legend()"
   ]
  },
  {
   "cell_type": "code",
   "execution_count": null,
   "metadata": {},
   "outputs": [],
   "source": []
  }
 ],
 "metadata": {
  "kernelspec": {
   "display_name": "Python 3",
   "language": "python",
   "name": "python3"
  },
  "language_info": {
   "codemirror_mode": {
    "name": "ipython",
    "version": 3
   },
   "file_extension": ".py",
   "mimetype": "text/x-python",
   "name": "python",
   "nbconvert_exporter": "python",
   "pygments_lexer": "ipython3",
   "version": "3.7.3"
  }
 },
 "nbformat": 4,
 "nbformat_minor": 2
}
