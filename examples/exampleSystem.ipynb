{
 "cells": [
  {
   "cell_type": "code",
   "execution_count": 1,
   "metadata": {
    "collapsed": true
   },
   "outputs": [
    {
     "name": "stdout",
     "output_type": "stream",
     "text": [
      "C:\\Users\\benja\\OneDrive - ETHZ\\PhD\\Code\\Ensembler\\examples/../..\n"
     ]
    }
   ],
   "source": [
    "import os, sys\n",
    "path = os.getcwd()+\"/../..\"\n",
    "print(path)\n",
    "sys.path.append(path)    #give here the path to the folder containing the package,default does not work!!\n",
    "\n",
    "\n",
    "import numpy as np\n",
    "import pandas as pd\n",
    "from Ensembler.src import integrator as integ\n",
    "import Ensembler.src.system as system\n",
    "import Ensembler.src.potentials.OneD as pot\n",
    "# Ensembler.src.Ensembler as cvb\n",
    "\n",
    "import matplotlib.pyplot as plt\n",
    "from mpl_toolkits.mplot3d import Axes3D\n",
    "from matplotlib import cm\n",
    "from matplotlib import colorbar\n",
    "%matplotlib inline"
   ]
  },
  {
   "cell_type": "code",
   "execution_count": 2,
   "metadata": {},
   "outputs": [
    {
     "name": "stdout",
     "output_type": "stream",
     "text": [
      "Ensembler.src.potentials._baseclassesin _set_singlePos_mode  1\n",
      "STATES ARE BIIG\n",
      "Ensembler.src.potentials._baseclassesin _set_singlePos_mode  1\n",
      "STATES ARE BIIG\n"
     ]
    }
   ],
   "source": [
    "integrator = integ.metropolisMonteCarloIntegrator()\n",
    "sys=[system.perturbedSystem(lam=0.0, potential=pot.pertHarmonicOsc(fc=5.0, alpha=0.0, gamma=5.0), integrator=integrator), \n",
    "     system.perturbedSystem(lam=1.0, potential=pot.pertHarmonicOsc(fc=5.0, alpha=0.0, gamma=5.0), integrator=integrator)]\n"
   ]
  },
  {
   "cell_type": "code",
   "execution_count": 3,
   "metadata": {},
   "outputs": [
    {
     "name": "stdout",
     "output_type": "stream",
     "text": [
      "Progress: \t0%\t10%\t20%\t30%\t40%\t50%\t60%\t70%\t80%\t90%\t100%\n",
      "Progress: \t0%\t10%\t20%\t30%\t40%\t50%\t60%\t70%\t80%\t90%\t100%\n"
     ]
    }
   ],
   "source": [
    "traj=[]\n",
    "for s in sys:\n",
    "    s.set_position(0.0)\n",
    "    s.simulate(10000, withdrawTraj=True)\n",
    "    \n",
    "    t= s.getTrajectory()\n",
    "    t.position = np.array(t.position.values.tolist()).flatten()\n",
    "    t.dhdlam =  pd.Series(s.potential.dhdlam(np.array(t.position.values.tolist()).flatten()))\n",
    "    traj.append(t)\n"
   ]
  },
  {
   "cell_type": "code",
   "execution_count": 4,
   "metadata": {},
   "outputs": [
    {
     "data": {
      "text/html": [
       "<div>\n",
       "<style scoped>\n",
       "    .dataframe tbody tr th:only-of-type {\n",
       "        vertical-align: middle;\n",
       "    }\n",
       "\n",
       "    .dataframe tbody tr th {\n",
       "        vertical-align: top;\n",
       "    }\n",
       "\n",
       "    .dataframe thead th {\n",
       "        text-align: right;\n",
       "    }\n",
       "</style>\n",
       "<table border=\"1\" class=\"dataframe\">\n",
       "  <thead>\n",
       "    <tr style=\"text-align: right;\">\n",
       "      <th></th>\n",
       "      <th>position</th>\n",
       "      <th>temperature</th>\n",
       "      <th>totEnergy</th>\n",
       "      <th>totPotEnergy</th>\n",
       "      <th>totKinEnergy</th>\n",
       "      <th>dhdpos</th>\n",
       "      <th>velocity</th>\n",
       "      <th>lam</th>\n",
       "      <th>dhdlam</th>\n",
       "    </tr>\n",
       "  </thead>\n",
       "  <tbody>\n",
       "    <tr>\n",
       "      <th>0</th>\n",
       "      <td>5.908210</td>\n",
       "      <td>298.0</td>\n",
       "      <td>87.267364</td>\n",
       "      <td>87.267364</td>\n",
       "      <td>NaN</td>\n",
       "      <td>NaN</td>\n",
       "      <td>[-0.4122441157325849]</td>\n",
       "      <td>0.0</td>\n",
       "      <td>-0.0</td>\n",
       "    </tr>\n",
       "    <tr>\n",
       "      <th>1</th>\n",
       "      <td>5.488984</td>\n",
       "      <td>298.0</td>\n",
       "      <td>75.322355</td>\n",
       "      <td>75.322355</td>\n",
       "      <td>NaN</td>\n",
       "      <td>-0.419226</td>\n",
       "      <td>None</td>\n",
       "      <td>0.0</td>\n",
       "      <td>-0.0</td>\n",
       "    </tr>\n",
       "    <tr>\n",
       "      <th>2</th>\n",
       "      <td>5.154619</td>\n",
       "      <td>298.0</td>\n",
       "      <td>66.425247</td>\n",
       "      <td>66.425247</td>\n",
       "      <td>NaN</td>\n",
       "      <td>-0.334365</td>\n",
       "      <td>None</td>\n",
       "      <td>0.0</td>\n",
       "      <td>-0.0</td>\n",
       "    </tr>\n",
       "    <tr>\n",
       "      <th>3</th>\n",
       "      <td>5.054588</td>\n",
       "      <td>298.0</td>\n",
       "      <td>63.872153</td>\n",
       "      <td>63.872153</td>\n",
       "      <td>NaN</td>\n",
       "      <td>-0.100031</td>\n",
       "      <td>None</td>\n",
       "      <td>0.0</td>\n",
       "      <td>-0.0</td>\n",
       "    </tr>\n",
       "    <tr>\n",
       "      <th>4</th>\n",
       "      <td>4.521502</td>\n",
       "      <td>298.0</td>\n",
       "      <td>51.109948</td>\n",
       "      <td>51.109948</td>\n",
       "      <td>NaN</td>\n",
       "      <td>-0.533086</td>\n",
       "      <td>None</td>\n",
       "      <td>0.0</td>\n",
       "      <td>-0.0</td>\n",
       "    </tr>\n",
       "  </tbody>\n",
       "</table>\n",
       "</div>"
      ],
      "text/plain": [
       "   position  temperature  totEnergy  totPotEnergy  totKinEnergy    dhdpos  \\\n",
       "0  5.908210        298.0  87.267364     87.267364           NaN       NaN   \n",
       "1  5.488984        298.0  75.322355     75.322355           NaN -0.419226   \n",
       "2  5.154619        298.0  66.425247     66.425247           NaN -0.334365   \n",
       "3  5.054588        298.0  63.872153     63.872153           NaN -0.100031   \n",
       "4  4.521502        298.0  51.109948     51.109948           NaN -0.533086   \n",
       "\n",
       "                velocity  lam  dhdlam  \n",
       "0  [-0.4122441157325849]  0.0    -0.0  \n",
       "1                   None  0.0    -0.0  \n",
       "2                   None  0.0    -0.0  \n",
       "3                   None  0.0    -0.0  \n",
       "4                   None  0.0    -0.0  "
      ]
     },
     "execution_count": 4,
     "metadata": {},
     "output_type": "execute_result"
    }
   ],
   "source": [
    "traj[0].head()"
   ]
  },
  {
   "cell_type": "code",
   "execution_count": 5,
   "metadata": {},
   "outputs": [
    {
     "name": "stderr",
     "output_type": "stream",
     "text": [
      "No handles with labels found to put in legend.\n"
     ]
    },
    {
     "data": {
      "text/plain": [
       "<matplotlib.legend.Legend at 0x21f3b7c1be0>"
      ]
     },
     "execution_count": 5,
     "metadata": {},
     "output_type": "execute_result"
    },
    {
     "data": {
      "image/png": "[encoded data removed]",
      "text/plain": [
       "<Figure size 432x288 with 6 Axes>"
      ]
     },
     "metadata": {
      "needs_background": "light"
     },
     "output_type": "display_data"
    }
   ],
   "source": [
    "%matplotlib inline\n",
    "fig, ax=plt.subplots(3, 2)\n",
    "labels=['Position /nm', 'Potential Energy /$\\mathrm{kJ}\\, \\mathrm{mol}^{-1}$', '$ \\partial \\mathcal{H} \\\n",
    "/ \\partial \\lambda  \\, / \\mathrm{kJ} \\, \\mathrm{mol}^{-1}$']\n",
    "for s in range(2):\n",
    "    hist=[]\n",
    "    for i, j in enumerate(['position', 'totPotEnergy', ]): #'dhdlam']):\n",
    "        hist.append(np.histogram(traj[s][j][0], bins=30, density=1))\n",
    "        ax[i,0].plot(traj[s].index, traj[s][j],'.', label='$\\lambda={:d}$'.format(s))\n",
    "        ax[i,0].set_ylabel(labels[i])\n",
    "        ax[i,1].plot(hist[i][0], hist[i][1][:-1]+(hist[i][1][1]-hist[i][1][0])/2.0,label='$\\lambda={:d}$'.format(s))\n",
    "        ax[i,1].legend()\n",
    "ax[2,0].set_xlabel('Step')\n",
    "ax[2,1].set_xlabel('Density')\n",
    "ax[2,1].set_ylim(0,20)\n",
    "ax[2,1].legend()"
   ]
  },
  {
   "cell_type": "code",
   "execution_count": null,
   "metadata": {},
   "outputs": [],
   "source": []
  }
 ],
 "metadata": {
  "kernelspec": {
   "display_name": "Python 3",
   "language": "python",
   "name": "python3"
  },
  "language_info": {
   "codemirror_mode": {
    "name": "ipython",
    "version": 3
   },
   "file_extension": ".py",
   "mimetype": "text/x-python",
   "name": "python",
   "nbconvert_exporter": "python",
   "pygments_lexer": "ipython3",
   "version": "3.7.3"
  }
 },
 "nbformat": 4,
 "nbformat_minor": 2
}
