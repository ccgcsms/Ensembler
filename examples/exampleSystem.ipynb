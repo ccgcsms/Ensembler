{
 "cells": [
  {
   "cell_type": "code",
   "execution_count": 2,
   "metadata": {
    "collapsed": true
   },
   "outputs": [
    {
     "name": "stdout",
     "output_type": "stream",
     "text": [
      "None\n"
     ]
    }
   ],
   "source": [
    "import os, sys\n",
    "path = os.chdir(os.getcwd()+\"/..\")\n",
    "print(path)\n",
    "sys.path.append(path)    #give here the path to the folder containing the package,default does not work!!\n",
    "\n",
    "\n",
    "import numpy as np\n",
    "import pandas as pd\n",
    "from Ensembler.src import integrator as integ\n",
    "import Ensembler.src.system as system\n",
    "import Ensembler.src.potentials.OneD as pot\n",
    "# Ensembler.src.Ensembler as cvb\n",
    "\n",
    "import matplotlib.pyplot as plt\n",
    "from mpl_toolkits.mplot3d import Axes3D\n",
    "from matplotlib import cm\n",
    "from matplotlib import colorbar\n",
    "%matplotlib inline"
   ]
  },
  {
   "cell_type": "code",
   "execution_count": 3,
   "metadata": {},
   "outputs": [],
   "source": [
    "integrator = integ.metropolisMonteCarloIntegrator()\n",
    "sys=[system.perturbedSystem(lam=0.0, potential=pot.pertHarmonicOsc(fc=5.0, alpha=0.0, gamma=5.0), integrator=integrator), \n",
    "     system.perturbedSystem(lam=1.0, potential=pot.pertHarmonicOsc(fc=5.0, alpha=0.0, gamma=5.0), integrator=integrator)]\n"
   ]
  },
  {
   "cell_type": "code",
   "execution_count": null,
   "metadata": {},
   "outputs": [
    {
     "name": "stdout",
     "output_type": "stream",
     "text": [
      "Progress: \t0%\t10%\t20%\t30%\t40%\t50%\t60%\t70%\t80%\t90%\t100%\n",
      "Progress: \t0%\t10%\t20%\t30%\t40%\t50%\t60%\t70%\t80%\t90%\t"
     ]
    }
   ],
   "source": [
    "traj=[]\n",
    "for s in sys:\n",
    "    t = []\n",
    "    s.pos=0.0\n",
    "    s.simulate(1000000, withdrawTraj=True)\n",
    "    t= s.getTrajectory()\n",
    "    t.position = np.array(t.position.values.tolist()).flatten()\n",
    "    t.dhdlam =  pd.Series(s.potential.dhdlam(np.array(t.position.values.tolist()).flatten()))\n",
    "    traj.append(t)\n"
   ]
  },
  {
   "cell_type": "code",
   "execution_count": null,
   "metadata": {},
   "outputs": [],
   "source": [
    "traj[0].head()"
   ]
  },
  {
   "cell_type": "code",
   "execution_count": null,
   "metadata": {},
   "outputs": [],
   "source": [
    "%matplotlib inline\n",
    "fig, ax=plt.subplots(3, 2)\n",
    "labels=['Position /nm', 'Potential Energy /$\\mathrm{kJ}\\, \\mathrm{mol}^{-1}$', '$ \\partial \\mathcal{H} \\\n",
    "/ \\partial \\lambda  \\, / \\mathrm{kJ} \\, \\mathrm{mol}^{-1}$']\n",
    "for s in range(2):\n",
    "    hist=[]\n",
    "    for i, j in enumerate(['position', 'totPotEnergy', 'dhdlam']):\n",
    "        hist.append(np.histogram(traj[s][j][0], bins=30, density=1))\n",
    "        ax[i,0].plot(traj[s].index, traj[s][j],'.', label='$\\lambda={:d}$'.format(s))\n",
    "        ax[i,0].set_ylabel(labels[i])\n",
    "        ax[i,1].plot(hist[i][0], hist[i][1][:-1]+(hist[i][1][1]-hist[i][1][0])/2.0,label='$\\lambda={:d}$'.format(s))\n",
    "        ax[i,1].legend()\n",
    "ax[2,0].set_xlabel('Step')\n",
    "ax[2,1].set_xlabel('Density')\n",
    "ax[2,1].set_ylim(0,20)\n",
    "ax[2,1].legend()"
   ]
  },
  {
   "cell_type": "code",
   "execution_count": null,
   "metadata": {},
   "outputs": [],
   "source": []
  }
 ],
 "metadata": {
  "kernelspec": {
   "display_name": "Python 3",
   "language": "python",
   "name": "python3"
  },
  "language_info": {
   "codemirror_mode": {
    "name": "ipython",
    "version": 3
   },
   "file_extension": ".py",
   "mimetype": "text/x-python",
   "name": "python",
   "nbconvert_exporter": "python",
   "pygments_lexer": "ipython3",
   "version": "3.7.3"
  }
 },
 "nbformat": 4,
 "nbformat_minor": 2
}
