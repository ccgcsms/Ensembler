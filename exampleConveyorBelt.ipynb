{
 "cells": [
  {
   "cell_type": "code",
   "execution_count": 16,
   "metadata": {
    "collapsed": true
   },
   "outputs": [],
   "source": [
    "import numpy as np\n",
    "import pandas as pd\n",
    "import potential1D as pot\n",
    "import system1D \n",
    "import conveyorBelt as cvb\n",
    "import matplotlib.pyplot as plt\n",
    "\n",
    "from mpl_toolkits.mplot3d import Axes3D\n",
    "from matplotlib import cm\n",
    "from matplotlib import colorbar\n",
    "%matplotlib inline"
   ]
  },
  {
   "cell_type": "code",
   "execution_count": 20,
   "metadata": {},
   "outputs": [],
   "source": [
    "numsys = 8\n",
    "steps = 100000"
   ]
  },
  {
   "cell_type": "code",
   "execution_count": 21,
   "metadata": {},
   "outputs": [
    {
     "data": {
      "text/plain": [
       "0      0.07     0.971\n1      0.18     0.277\n2      0.43     2.450\n3      0.68     2.458\n4      0.93     4.682\n5      0.82     0.047\n6      0.57     0.309\n7      0.32     2.862"
      ]
     },
     "execution_count": 21,
     "metadata": {},
     "output_type": "execute_result"
    }
   ],
   "source": [
    "ens=cvb.Ensemble(0.0, numsys, \n",
    "                 system=system1D.system1D(\n",
    "                     potential=pot.pertHarmonicOsc1D(fc=1.0, alpha=10.0, gamma=0.0)\n",
    "                 ),\n",
    "                 build=False)\n",
    "ens.propagate()\n",
    "ens"
   ]
  },
  {
   "cell_type": "code",
   "execution_count": 23,
   "metadata": {},
   "outputs": [
    {
     "name": "stdout",
     "output_type": "stream",
     "text": [
      "Rejected  41951\n"
     ]
    }
   ],
   "source": [
    "ens.traj_clear()\n",
    "systrajs, traj=cvb.calc_traj(steps=steps, ens=ens)"
   ]
  },
  {
   "cell_type": "code",
   "execution_count": 28,
   "metadata": {},
   "outputs": [
    {
     "data": {
      "text/html": [
       "<div>\n",
       "<style scoped>\n",
       "    .dataframe tbody tr th:only-of-type {\n",
       "        vertical-align: middle;\n",
       "    }\n",
       "\n",
       "    .dataframe tbody tr th {\n",
       "        vertical-align: top;\n",
       "    }\n",
       "\n",
       "    .dataframe thead th {\n",
       "        text-align: right;\n",
       "    }\n",
       "</style>\n",
       "<table border=\"1\" class=\"dataframe\">\n",
       "  <thead>\n",
       "    <tr style=\"text-align: right;\">\n",
       "      <th></th>\n",
       "      <th>Step</th>\n",
       "      <th>CapLam</th>\n",
       "      <th>Energy</th>\n",
       "      <th>Bias</th>\n",
       "    </tr>\n",
       "  </thead>\n",
       "  <tbody>\n",
       "    <tr>\n",
       "      <th>0</th>\n",
       "      <td>0.0</td>\n",
       "      <td>6.065316</td>\n",
       "      <td>14.056031</td>\n",
       "      <td>0.0</td>\n",
       "    </tr>\n",
       "    <tr>\n",
       "      <th>1</th>\n",
       "      <td>1.0</td>\n",
       "      <td>5.514607</td>\n",
       "      <td>5.565723</td>\n",
       "      <td>0.0</td>\n",
       "    </tr>\n",
       "    <tr>\n",
       "      <th>2</th>\n",
       "      <td>2.0</td>\n",
       "      <td>6.214344</td>\n",
       "      <td>6.984344</td>\n",
       "      <td>0.0</td>\n",
       "    </tr>\n",
       "    <tr>\n",
       "      <th>3</th>\n",
       "      <td>3.0</td>\n",
       "      <td>6.214344</td>\n",
       "      <td>9.011985</td>\n",
       "      <td>0.0</td>\n",
       "    </tr>\n",
       "    <tr>\n",
       "      <th>4</th>\n",
       "      <td>4.0</td>\n",
       "      <td>5.694975</td>\n",
       "      <td>10.762458</td>\n",
       "      <td>0.0</td>\n",
       "    </tr>\n",
       "  </tbody>\n",
       "</table>\n",
       "</div>"
      ],
      "text/plain": [
       "<div>\n",
       "<style scoped>\n",
       "    .dataframe tbody tr th:only-of-type {\n",
       "        vertical-align: middle;\n",
       "    }\n",
       "\n",
       "    .dataframe tbody tr th {\n",
       "        vertical-align: top;\n",
       "    }\n",
       "\n",
       "    .dataframe thead th {\n",
       "        text-align: right;\n",
       "    }\n",
       "</style>\n",
       "<table border=\"1\" class=\"dataframe\">\n",
       "  <thead>\n",
       "    <tr style=\"text-align: right;\">\n",
       "      <th></th>\n",
       "      <th>Step</th>\n",
       "      <th>CapLam</th>\n",
       "      <th>Energy</th>\n",
       "      <th>Bias</th>\n",
       "    </tr>\n",
       "  </thead>\n",
       "  <tbody>\n",
       "    <tr>\n",
       "      <th>0</th>\n",
       "      <td>0.0</td>\n",
       "      <td>6.065316</td>\n",
       "      <td>14.056031</td>\n",
       "      <td>0.0</td>\n",
       "    </tr>\n",
       "    <tr>\n",
       "      <th>1</th>\n",
       "      <td>1.0</td>\n",
       "      <td>5.514607</td>\n",
       "      <td>5.565723</td>\n",
       "      <td>0.0</td>\n",
       "    </tr>\n",
       "    <tr>\n",
       "      <th>2</th>\n",
       "      <td>2.0</td>\n",
       "      <td>6.214344</td>\n",
       "      <td>6.984344</td>\n",
       "      <td>0.0</td>\n",
       "    </tr>\n",
       "    <tr>\n",
       "      <th>3</th>\n",
       "      <td>3.0</td>\n",
       "      <td>6.214344</td>\n",
       "      <td>9.011985</td>\n",
       "      <td>0.0</td>\n",
       "    </tr>\n",
       "    <tr>\n",
       "      <th>4</th>\n",
       "      <td>4.0</td>\n",
       "      <td>5.694975</td>\n",
       "      <td>10.762458</td>\n",
       "      <td>0.0</td>\n",
       "    </tr>\n",
       "  </tbody>\n",
       "</table>\n",
       "</div>"
      ]
     },
     "execution_count": 28,
     "metadata": {},
     "output_type": "execute_result"
    }
   ],
   "source": [
    "traj=pd.DataFrame(traj, columns=['Step', 'CapLam', 'Energy', 'Bias'])\n",
    "traj.head()"
   ]
  },
  {
   "cell_type": "code",
   "execution_count": 6,
   "metadata": {},
   "outputs": [
    {
     "name": "stdout",
     "output_type": "stream",
     "text": [
      "[[ 1.00000000e+00  7.61900130e-01  3.00000000e+02  0.00000000e+00\n   0.00000000e+00  4.07752469e-01  4.07752469e-01  4.04851760e-02\n   2.90245904e+00]\n [ 1.00000000e+00 -3.17747213e-01  3.00000000e+02  0.00000000e+00\n   0.00000000e+00  1.56248177e-01  1.56248177e-01  2.09514824e-01\n   5.04816456e-01]\n [ 1.00000000e+00  8.60790660e-01  3.00000000e+02  0.00000000e+00\n   0.00000000e+00  2.07289209e+00  2.07289209e+00  4.59514824e-01\n   3.70480280e+00]\n [ 1.00000000e+00  0.00000000e+00  3.00000000e+02  0.00000000e+00\n   0.00000000e+00  0.00000000e+00  0.00000000e+00  7.09514824e-01\n   0.00000000e+00]\n [ 1.00000000e+00  4.07196639e-01  3.00000000e+02  0.00000000e+00\n   0.00000000e+00  8.78386012e-01  8.78386012e-01  9.59514824e-01\n   8.29045514e-01]\n [ 1.00000000e+00 -6.74587769e-01  3.00000000e+02  0.00000000e+00\n   0.00000000e+00  2.02615947e+00  2.02615947e+00  7.90485176e-01\n   2.27534329e+00]\n [ 1.00000000e+00 -4.73845834e-01  3.00000000e+02  0.00000000e+00\n   0.00000000e+00  7.19040282e-01  7.19040282e-01  5.40485176e-01\n   1.12264937e+00]\n [ 1.00000000e+00 -7.39168619e-02  3.00000000e+02  0.00000000e+00\n   0.00000000e+00  1.06674741e-02  1.06674741e-02  2.90485176e-01\n   2.73185124e-02]]\n"
     ]
    }
   ],
   "source": [
    "print(systrajs[0])"
   ]
  },
  {
   "cell_type": "heading",
   "metadata": {},
   "level": 2,
   "source": [
    "Analyze run by binning along lambda and calculating dHdl per bin"
   ]
  },
  {
   "cell_type": "code",
   "execution_count": 9,
   "metadata": {
    "collapsed": true
   },
   "outputs": [
    {
     "data": {
      "text/plain": [
       "array([10.3250814 ,  9.83720972, 10.29044821,  9.40348162,  8.01967048,\n        8.34681691,  7.98067526,  6.46976087,  7.02725732,  6.55160317,\n        6.01294539,  5.72405738,  6.2692522 ,  4.8316138 ,  4.8086693 ,\n        4.80052078,  4.59443791,  4.58147014,  4.45795407,  3.81531219,\n        4.36370001,  3.70374575,  3.94788292,  3.55850116,  3.55911986,\n        3.517596  ,  3.5621455 ,  3.25452373,  3.23158737,  2.89117277,\n        2.73548062,  2.93151558,  2.6174388 ,  2.95784858,  2.8922483 ,\n        2.88611046,  2.75364459,  2.73961975,  2.79812276,  2.38514026,\n        2.50842595,  2.43656517,  2.4563773 ,  2.1269406 ,  2.03226514,\n        2.05411861,  2.11579343,  2.05939799,  2.21974921,  2.09933017,\n        2.10201309,  2.07249162,  1.91710918,  1.8795595 ,  2.06975497,\n        1.87356841,  1.77549085,  1.74871891,  1.8979159 ,  1.85161445,\n        1.76366671,  1.63691702,  1.65929423,  1.62535854,  1.67194248,\n        1.63440182,  1.6068637 ,  1.46639899,  1.48117978,  1.51824944,\n        1.72259009,  1.6691629 ,  1.37955881,  1.54567532,  1.50734431,\n        1.43775001,  1.39810547,  1.34719156,  1.38301465,  1.44407814,\n        1.36434673,  1.40356152,  1.32737309,  1.36905324,  1.36948917,\n        1.34305443,  1.30796417,  1.31941715,  1.23790586,  1.26031999,\n        1.28850875,  1.39654362,  1.11097023,  1.16467275,  1.20657238,\n        1.14458003,  1.24221917,  1.24123249,  1.26681806,  1.13320034])"
      ]
     },
     "execution_count": 9,
     "metadata": {},
     "output_type": "execute_result"
    }
   ],
   "source": [
    "nbins=100\n",
    "bins=np.zeros(nbins)\n",
    "dhdlbins=np.zeros(nbins)\n",
    "for i in range(numsys):\n",
    "    for j in range(systrajs[:,i,:].shape[0]):\n",
    "        index=int(np.floor(systrajs[j,i,7]*nbins))\n",
    "        if index == nbins:\n",
    "            index=nbins-1\n",
    "        bins[index]+=1\n",
    "        dhdlbins[index]+=systrajs[j, i, 8]\n",
    "dhdlbins/=bins\n",
    "dhdlbins"
   ]
  },
  {
   "cell_type": "code",
   "execution_count": 10,
   "metadata": {},
   "outputs": [
    {
     "name": "stdout",
     "output_type": "stream",
     "text": [
      "Integral =  2.9512913049810385\n"
     ]
    },
    {
     "data": {
      "image/png": "[encoded data removed]",
      "text/plain": [
       "<Figure size 432x288 with 1 Axes>"
      ]
     },
     "metadata": {},
     "output_type": "display_data"
    }
   ],
   "source": [
    "plt.plot(np.linspace(0,1,nbins), dhdlbins)\n",
    "integral=np.sum(dhdlbins)*1.0/nbins\n",
    "print('Integral = ', integral)"
   ]
  },
  {
   "cell_type": "code",
   "execution_count": 13,
   "metadata": {},
   "outputs": [
    {
     "data": {
      "text/plain": [
       "(0.14, 0.185)"
      ]
     },
     "execution_count": 13,
     "metadata": {},
     "output_type": "execute_result"
    },
    {
     "data": {
      "image/png": "[encoded data removed]",
      "text/plain": [
       "<Figure size 432x288 with 1 Axes>"
      ]
     },
     "metadata": {},
     "output_type": "display_data"
    }
   ],
   "source": [
    "h1=np.histogram(traj.CapLam, bins=50, density=1)\n",
    "plt.plot(h1[1][:-1], h1[0])\n",
    "plt.ylim(0.14, 0.185)"
   ]
  },
  {
   "cell_type": "code",
   "execution_count": 14,
   "metadata": {},
   "outputs": [
    {
     "data": {
      "text/plain": [
       "Text(0, 0.5, '$\\\\lambda$')"
      ]
     },
     "execution_count": 14,
     "metadata": {},
     "output_type": "execute_result"
    },
    {
     "data": {
      "image/png": "[encoded data removed]",
      "text/plain": [
       "<Figure size 432x288 with 1 Axes>"
      ]
     },
     "metadata": {},
     "output_type": "display_data"
    }
   ],
   "source": [
    "caplam = np.linspace(0, 2*np.pi, 100)\n",
    "x=[]\n",
    "for i in caplam:\n",
    "    x.append(ens.calc_lam(i, 0))\n",
    "plt.plot(caplam, x)\n",
    "plt.xlabel('$\\Lambda / \\pi$')\n",
    "plt.ylabel('$\\lambda$')"
   ]
  },
  {
   "cell_type": "code",
   "execution_count": 15,
   "metadata": {},
   "outputs": [
    {
     "name": "stdout",
     "output_type": "stream",
     "text": [
      "Omega 1.4142135623730951 4.69041575982343\n0.03600698886161772 0.11942167188449208\n2.991927940369414 2.991927940369415 -8.291150088634001 -5.299222148264588\n"
     ]
    }
   ],
   "source": [
    "#analytical\n",
    "u=1.66053886e-27\n",
    "NA=6.0221415e23\n",
    "hbar=1.054571800e-34*1e12*1e-3*NA  #kJ/mol*ps\n",
    "R=0.00831446 #kJ/mol/K\n",
    "mu=0.5  #u\n",
    "T=300.0  #K\n",
    "fc1=1  #kJ/nm^2/mol\n",
    "fc2=11.0 #kJ/nm^2/mol\n",
    "omega1=np.sqrt(fc1/mu)\n",
    "omega2=np.sqrt(fc2/mu)\n",
    "print('Omega', omega1, omega2)\n",
    "alpha1=hbar*np.sqrt(fc1/mu)/(R*T)\n",
    "alpha2=hbar*np.sqrt(fc2/mu)/(R*T)\n",
    "print(alpha1, alpha2)\n",
    "Z1=np.exp(-alpha1/2.0)/(1-np.exp(-alpha1))\n",
    "Z2=np.exp(-alpha2/2.0)/(1-np.exp(-alpha2))\n",
    "F1=-R*T*np.log(Z1)\n",
    "F2=-R*T*np.log(Z2)\n",
    "DF=F2-F1\n",
    "DF2=-R*T*np.log(Z2/Z1)\n",
    "print(DF, DF2, F1, F2)"
   ]
  },
  {
   "cell_type": "code",
   "execution_count": null,
   "metadata": {},
   "outputs": [],
   "source": []
  }
 ],
 "metadata": {
  "kernelspec": {
   "display_name": "Python 2",
   "language": "python",
   "name": "python2"
  },
  "language_info": {
   "codemirror_mode": {
    "name": "ipython",
    "version": 2
   },
   "file_extension": ".py",
   "mimetype": "text/x-python",
   "name": "python",
   "nbconvert_exporter": "python",
   "pygments_lexer": "ipython2",
   "version": "2.7.6"
  }
 },
 "nbformat": 4,
 "nbformat_minor": 0
}
