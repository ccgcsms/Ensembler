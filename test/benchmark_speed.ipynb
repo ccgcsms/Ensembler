{
 "cells": [
  {
   "cell_type": "code",
   "execution_count": 1,
   "metadata": {},
   "outputs": [],
   "source": [
    "import unittest\n",
    "import numpy as np\n",
    "import numbers\n",
    "\n",
    "from Ensembler.src import potentials\n",
    "from Ensembler.src import system, integrator\n",
    "\n"
   ]
  },
  {
   "cell_type": "code",
   "execution_count": 17,
   "metadata": {},
   "outputs": [],
   "source": [
    "#prepare:\n",
    "integ = integrator.monteCarloIntegrator()\n",
    "pot = potentials.OneD.harmonicOsc1D()\n",
    "conditions = []\n",
    "temperature = 300\n",
    "position = [0.1]\n",
    "mass = [1]\n",
    "steps = 1000\n",
    "\n",
    "sys = system.system(potential=pot, integrator=integ, position=position, temperature=temperature)"
   ]
  },
  {
   "cell_type": "code",
   "execution_count": 14,
   "metadata": {},
   "outputs": [
    {
     "name": "stdout",
     "output_type": "stream",
     "text": [
      "26.5 ms ± 763 µs per loop (mean ± std. dev. of 7 runs, 10 loops each)\n"
     ]
    }
   ],
   "source": [
    "%%timeit\n",
    "sys.simulate(steps=steps)"
   ]
  },
  {
   "cell_type": "markdown",
   "metadata": {},
   "source": [
    "# History of Performance\n",
    "## Monte Carlo HarmoicOsc 1D\n",
    "\n",
    "   * start:\n",
    "     * Steps 100:  2.74 ms ± 33.4 µs per loop (mean ± std. dev. of 7 runs, 100 loops each)\n",
    "     * Steps 1000: 27.4 ms ± 258 µs per loop (mean ± std. dev. of 7 runs, 10 loops each)\n",
    "     * Steps 10000: 273 ms ± 2.97 ms per loop (mean ± std. dev. of 7 runs, 1 loop each)\n",
    "\n",
    "         "
   ]
  },
  {
   "cell_type": "code",
   "execution_count": 8,
   "metadata": {},
   "outputs": [],
   "source": [
    "#prepare Lambd\n",
    "integ = integrator.monteCarloIntegrator()\n",
    "ha = potentials.OneD.harmonicOsc1D(x_shift=-5)\n",
    "hb = potentials.OneD.harmonicOsc1D(x_shift=5)\n",
    "pot = potentials.OneD.linCoupledHosc(ha=ha, hb=hb)\n",
    "\n",
    "temperature = 300\n",
    "position = [0]\n",
    "lam = 0\n",
    "\n",
    "sys = system.perturbedSystem(potential=pot, integrator=integ, position=position, temperature=temperature, lam=lam)\n",
    "\n",
    "steps=10000\n"
   ]
  },
  {
   "cell_type": "code",
   "execution_count": 9,
   "metadata": {},
   "outputs": [
    {
     "name": "stdout",
     "output_type": "stream",
     "text": [
      "Progress: \t0%\t10%\t20%\t30%\t40%\t50%\t60%\t70%\t80%\t90%\t100%\n",
      "Progress: \t0%\t10%\t20%\t30%\t40%\t50%\t60%\t70%\t80%\t90%\t100%\n",
      "Progress: \t0%\t10%\t20%\t30%\t40%\t50%\t60%\t70%\t80%\t90%\t100%\n",
      "Progress: \t0%\t10%\t20%\t30%\t40%\t50%\t60%\t70%\t80%\t90%\t100%\n",
      "Progress: \t0%\t10%\t20%\t30%\t40%\t50%\t60%\t70%\t80%\t90%\t100%\n",
      "Progress: \t0%\t10%\t20%\t30%\t40%\t50%\t60%\t70%\t80%\t90%\t100%\n",
      "Progress: \t0%\t10%\t20%\t30%\t40%\t50%\t60%\t70%\t80%\t90%\t100%\n",
      "Progress: \t0%\t10%\t20%\t30%\t40%\t50%\t60%\t70%\t80%\t90%\t100%\n",
      "417 ms ± 12.3 ms per loop (mean ± std. dev. of 7 runs, 1 loop each)\n"
     ]
    }
   ],
   "source": [
    "%%timeit\n",
    "sys.simulate(steps=steps, initSystem=False, withdrawTraj=True)  #withdrawTraj is needed in the context because of the interaction between different Tests"
   ]
  },
  {
   "cell_type": "markdown",
   "metadata": {},
   "source": [
    "# History of Performance\n",
    "## Monte Carlo Perturbed 2 HarmoicOsc 1D\n",
    "\n",
    "   * start:\n",
    "     * Steps 100:  4.24 ms ± 675 µs per loop (mean ± std. dev. of 7 runs, 100 loops each)\n",
    "     * Steps 1000: 37.9 ms ± 374 µs per loop (mean ± std. dev. of 7 runs, 10 loops each)\n",
    "     * Steps 10000: 417 ms ± 12.3 ms per loop (mean ± std. dev. of 7 runs, 1 loop each)\n",
    "         "
   ]
  },
  {
   "cell_type": "code",
   "execution_count": null,
   "metadata": {},
   "outputs": [],
   "source": []
  }
 ],
 "metadata": {
  "kernelspec": {
   "display_name": "Python 3",
   "language": "python",
   "name": "python3"
  },
  "language_info": {
   "codemirror_mode": {
    "name": "ipython",
    "version": 3
   },
   "file_extension": ".py",
   "mimetype": "text/x-python",
   "name": "python",
   "nbconvert_exporter": "python",
   "pygments_lexer": "ipython3",
   "version": "3.7.3"
  }
 },
 "nbformat": 4,
 "nbformat_minor": 4
}
