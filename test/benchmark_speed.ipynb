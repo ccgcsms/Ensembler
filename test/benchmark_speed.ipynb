{
 "cells": [
  {
   "cell_type": "code",
   "execution_count": 1,
   "metadata": {},
   "outputs": [
    {
     "name": "stdout",
     "output_type": "stream",
     "text": [
      "C:\\Users\\benja\\OneDrive - ETHZ\\PhD\\Projects\\code\\Ensembler\\test/../..\n"
     ]
    }
   ],
   "source": [
    "#PATH VAR\n",
    "import os, sys\n",
    "my_path = os.getcwd()+\"/../..\"\n",
    "print(my_path)\n",
    "sys.path.append(my_path)\n",
    "os.chdir(my_path)\n",
    "\n",
    "#IMPORT\n",
    "import numpy as np\n",
    "\n",
    "from Ensembler.src import potentials\n",
    "from Ensembler.src import system, integrator"
   ]
  },
  {
   "cell_type": "markdown",
   "metadata": {},
   "source": [
    "# History of Performance\n",
    "## Monte Carlo HarmoicOsc 1D\n",
    "\n",
    "   * start:\n",
    "     * Steps 100:  2.74 ms ± 33.4 µs per loop (mean ± std. dev. of 7 runs, 100 loops each)\n",
    "     * Steps 1000: 27.4 ms ± 258 µs per loop (mean ± std. dev. of 7 runs, 10 loops each)\n",
    "     * Steps 10000: 273 ms ± 2.97 ms per loop (mean ± std. dev. of 7 runs, 1 loop each)\n",
    "     \n",
    "   * start_ no type check\n",
    "     * Steps 100:  2.74 ms ± 33.4 µs per loop (mean ± std. dev. of 7 runs, 100 loops each)\n",
    "     * Steps 1000: 29.2 ms ± 5.31 ms per loop (mean ± std. dev. of 7 runs, 10 loops each)\n",
    "     * Steps 10000: 273 ms ± 2.97 ms per loop (mean ± std. dev. of 7 runs, 1 loop each)\n",
    "     "
   ]
  },
  {
   "cell_type": "code",
   "execution_count": null,
   "metadata": {},
   "outputs": [],
   "source": [
    "sys.potential.dhd"
   ]
  },
  {
   "cell_type": "code",
   "execution_count": 11,
   "metadata": {},
   "outputs": [
    {
     "ename": "TypeError",
     "evalue": "'float' object is not iterable",
     "output_type": "error",
     "traceback": [
      "\u001b[1;31m---------------------------------------------------------------------------\u001b[0m",
      "\u001b[1;31mTypeError\u001b[0m                                 Traceback (most recent call last)",
      "\u001b[1;32m<ipython-input-11-ba77a97e0a44>\u001b[0m in \u001b[0;36m<module>\u001b[1;34m\u001b[0m\n\u001b[0;32m      8\u001b[0m \u001b[0msteps\u001b[0m \u001b[1;33m=\u001b[0m \u001b[1;36m100\u001b[0m\u001b[1;33m\u001b[0m\u001b[1;33m\u001b[0m\u001b[0m\n\u001b[0;32m      9\u001b[0m \u001b[1;33m\u001b[0m\u001b[0m\n\u001b[1;32m---> 10\u001b[1;33m \u001b[0msys\u001b[0m \u001b[1;33m=\u001b[0m \u001b[0msystem\u001b[0m\u001b[1;33m.\u001b[0m\u001b[0msystem\u001b[0m\u001b[1;33m(\u001b[0m\u001b[0mpotential\u001b[0m\u001b[1;33m=\u001b[0m\u001b[0mpot\u001b[0m\u001b[1;33m,\u001b[0m \u001b[0mintegrator\u001b[0m\u001b[1;33m=\u001b[0m\u001b[0minteg\u001b[0m\u001b[1;33m,\u001b[0m \u001b[0mposition\u001b[0m\u001b[1;33m=\u001b[0m\u001b[0mposition\u001b[0m\u001b[1;33m,\u001b[0m \u001b[0mtemperature\u001b[0m\u001b[1;33m=\u001b[0m\u001b[0mtemperature\u001b[0m\u001b[1;33m)\u001b[0m\u001b[1;33m\u001b[0m\u001b[1;33m\u001b[0m\u001b[0m\n\u001b[0m",
      "\u001b[1;32m~\\OneDrive - ETHZ\\PhD\\Projects\\code\\Ensembler\\src\\system.py\u001b[0m in \u001b[0;36m__init__\u001b[1;34m(self, potential, integrator, conditions, temperature, position, mass)\u001b[0m\n\u001b[0;32m     84\u001b[0m \u001b[1;33m\u001b[0m\u001b[0m\n\u001b[0;32m     85\u001b[0m         \u001b[1;31m#define dims of system. #Todo: only true for one dim Pot.\u001b[0m\u001b[1;33m\u001b[0m\u001b[1;33m\u001b[0m\u001b[1;33m\u001b[0m\u001b[0m\n\u001b[1;32m---> 86\u001b[1;33m         \u001b[0mself\u001b[0m\u001b[1;33m.\u001b[0m\u001b[0minit_state\u001b[0m\u001b[1;33m(\u001b[0m\u001b[0minitial_position\u001b[0m\u001b[1;33m=\u001b[0m\u001b[0mposition\u001b[0m\u001b[1;33m)\u001b[0m\u001b[1;33m\u001b[0m\u001b[1;33m\u001b[0m\u001b[0m\n\u001b[0m\u001b[0;32m     87\u001b[0m \u001b[1;33m\u001b[0m\u001b[0m\n\u001b[0;32m     88\u001b[0m     \u001b[1;32mdef\u001b[0m \u001b[0minit_state\u001b[0m\u001b[1;33m(\u001b[0m\u001b[0mself\u001b[0m\u001b[1;33m,\u001b[0m \u001b[0minitial_position\u001b[0m\u001b[1;33m=\u001b[0m\u001b[1;32mNone\u001b[0m\u001b[1;33m)\u001b[0m\u001b[1;33m:\u001b[0m\u001b[1;33m\u001b[0m\u001b[1;33m\u001b[0m\u001b[0m\n",
      "\u001b[1;32m~\\OneDrive - ETHZ\\PhD\\Projects\\code\\Ensembler\\src\\system.py\u001b[0m in \u001b[0;36minit_state\u001b[1;34m(self, initial_position)\u001b[0m\n\u001b[0;32m     93\u001b[0m             \u001b[0mself\u001b[0m\u001b[1;33m.\u001b[0m\u001b[0minitial_positions\u001b[0m \u001b[1;33m=\u001b[0m \u001b[0minitial_position\u001b[0m\u001b[1;33m\u001b[0m\u001b[1;33m\u001b[0m\u001b[0m\n\u001b[0;32m     94\u001b[0m \u001b[1;33m\u001b[0m\u001b[0m\n\u001b[1;32m---> 95\u001b[1;33m         \u001b[0mself\u001b[0m\u001b[1;33m.\u001b[0m\u001b[0m_currentForce\u001b[0m \u001b[1;33m=\u001b[0m \u001b[0mself\u001b[0m\u001b[1;33m.\u001b[0m\u001b[0mpotential\u001b[0m\u001b[1;33m.\u001b[0m\u001b[0mdhdpos\u001b[0m\u001b[1;33m(\u001b[0m\u001b[0mself\u001b[0m\u001b[1;33m.\u001b[0m\u001b[0minitial_positions\u001b[0m\u001b[1;33m)\u001b[0m  \u001b[1;31m#initialise forces!\u001b[0m\u001b[1;33m\u001b[0m\u001b[1;33m\u001b[0m\u001b[0m\n\u001b[0m\u001b[0;32m     96\u001b[0m \u001b[1;33m\u001b[0m\u001b[0m\n\u001b[0;32m     97\u001b[0m         \u001b[1;31m#set a new current_state\u001b[0m\u001b[1;33m\u001b[0m\u001b[1;33m\u001b[0m\u001b[1;33m\u001b[0m\u001b[0m\n",
      "\u001b[1;32m~\\OneDrive - ETHZ\\PhD\\Projects\\code\\Ensembler\\src\\potentials\\OneD.py\u001b[0m in \u001b[0;36m_calculate_dhdpos\u001b[1;34m(self, positions)\u001b[0m\n\u001b[0;32m    104\u001b[0m \u001b[1;33m\u001b[0m\u001b[0m\n\u001b[0;32m    105\u001b[0m     \u001b[1;32mdef\u001b[0m \u001b[0m_calculate_dhdpos\u001b[0m\u001b[1;33m(\u001b[0m\u001b[0mself\u001b[0m\u001b[1;33m,\u001b[0m \u001b[0mpositions\u001b[0m\u001b[1;33m:\u001b[0m \u001b[1;33m(\u001b[0m\u001b[0mt\u001b[0m\u001b[1;33m.\u001b[0m\u001b[0mIterable\u001b[0m\u001b[1;33m[\u001b[0m\u001b[0mfloat\u001b[0m\u001b[1;33m]\u001b[0m \u001b[1;32mor\u001b[0m \u001b[0mnp\u001b[0m\u001b[1;33m.\u001b[0m\u001b[0marray\u001b[0m \u001b[1;32mor\u001b[0m \u001b[0mfloat\u001b[0m\u001b[1;33m)\u001b[0m\u001b[1;33m)\u001b[0m \u001b[1;33m->\u001b[0m  \u001b[0mnp\u001b[0m\u001b[1;33m.\u001b[0m\u001b[0marray\u001b[0m\u001b[1;33m:\u001b[0m\u001b[1;33m\u001b[0m\u001b[1;33m\u001b[0m\u001b[0m\n\u001b[1;32m--> 106\u001b[1;33m         \u001b[1;32mreturn\u001b[0m \u001b[0mnp\u001b[0m\u001b[1;33m.\u001b[0m\u001b[0marray\u001b[0m\u001b[1;33m(\u001b[0m\u001b[0mlist\u001b[0m\u001b[1;33m(\u001b[0m\u001b[0mmap\u001b[0m\u001b[1;33m(\u001b[0m\u001b[1;32mlambda\u001b[0m \u001b[0mpos\u001b[0m\u001b[1;33m:\u001b[0m \u001b[0mself\u001b[0m\u001b[1;33m.\u001b[0m\u001b[0mfc\u001b[0m \u001b[1;33m*\u001b[0m \u001b[1;33m(\u001b[0m\u001b[0mpos\u001b[0m \u001b[1;33m-\u001b[0m \u001b[0mself\u001b[0m\u001b[1;33m.\u001b[0m\u001b[0mx_shift\u001b[0m\u001b[1;33m)\u001b[0m\u001b[1;33m,\u001b[0m \u001b[0mpositions\u001b[0m\u001b[1;33m)\u001b[0m\u001b[1;33m)\u001b[0m\u001b[1;33m)\u001b[0m\u001b[1;33m\u001b[0m\u001b[1;33m\u001b[0m\u001b[0m\n\u001b[0m\u001b[0;32m    107\u001b[0m \u001b[1;33m\u001b[0m\u001b[0m\n\u001b[0;32m    108\u001b[0m \u001b[1;33m\u001b[0m\u001b[0m\n",
      "\u001b[1;31mTypeError\u001b[0m: 'float' object is not iterable"
     ]
    }
   ],
   "source": [
    "#prepare:\n",
    "integ = integrator.monteCarloIntegrator()\n",
    "pot = potentials.OneD.harmonicOsc()\n",
    "conditions = []\n",
    "temperature = 300\n",
    "position = 0.1\n",
    "mass = [1]\n",
    "steps = 100\n",
    "\n",
    "sys = system.system(potential=pot, integrator=integ, position=position, temperature=temperature)"
   ]
  },
  {
   "cell_type": "code",
   "execution_count": 12,
   "metadata": {},
   "outputs": [
    {
     "name": "stdout",
     "output_type": "stream",
     "text": [
      "2.45 ms ± 109 µs per loop (mean ± std. dev. of 7 runs, 100 loops each)\n"
     ]
    }
   ],
   "source": [
    "%%timeit\n",
    "sys.simulate(steps=steps)"
   ]
  },
  {
   "cell_type": "code",
   "execution_count": 4,
   "metadata": {},
   "outputs": [
    {
     "data": {
      "text/html": [
       "<div>\n",
       "<style scoped>\n",
       "    .dataframe tbody tr th:only-of-type {\n",
       "        vertical-align: middle;\n",
       "    }\n",
       "\n",
       "    .dataframe tbody tr th {\n",
       "        vertical-align: top;\n",
       "    }\n",
       "\n",
       "    .dataframe thead th {\n",
       "        text-align: right;\n",
       "    }\n",
       "</style>\n",
       "<table border=\"1\" class=\"dataframe\">\n",
       "  <thead>\n",
       "    <tr style=\"text-align: right;\">\n",
       "      <th></th>\n",
       "      <th>position</th>\n",
       "      <th>temperature</th>\n",
       "      <th>totEnergy</th>\n",
       "      <th>totPotEnergy</th>\n",
       "      <th>totKinEnergy</th>\n",
       "      <th>dhdpos</th>\n",
       "      <th>velocity</th>\n",
       "    </tr>\n",
       "  </thead>\n",
       "  <tbody>\n",
       "    <tr>\n",
       "      <th>0</th>\n",
       "      <td>[0.1]</td>\n",
       "      <td>300</td>\n",
       "      <td>0.771444</td>\n",
       "      <td>0.005000</td>\n",
       "      <td>0.766444</td>\n",
       "      <td>[0.1]</td>\n",
       "      <td>[1.2380983240393872]</td>\n",
       "    </tr>\n",
       "    <tr>\n",
       "      <th>1</th>\n",
       "      <td>[0.4912404531808705]</td>\n",
       "      <td>300</td>\n",
       "      <td>0.120659</td>\n",
       "      <td>0.120659</td>\n",
       "      <td>0.000000</td>\n",
       "      <td>[0.39124045318087053]</td>\n",
       "      <td>None</td>\n",
       "    </tr>\n",
       "    <tr>\n",
       "      <th>2</th>\n",
       "      <td>[-0.3613367764655463]</td>\n",
       "      <td>300</td>\n",
       "      <td>0.065282</td>\n",
       "      <td>0.065282</td>\n",
       "      <td>0.000000</td>\n",
       "      <td>[-0.8525772296464168]</td>\n",
       "      <td>None</td>\n",
       "    </tr>\n",
       "    <tr>\n",
       "      <th>3</th>\n",
       "      <td>[-0.46705113377494056]</td>\n",
       "      <td>300</td>\n",
       "      <td>0.109068</td>\n",
       "      <td>0.109068</td>\n",
       "      <td>0.000000</td>\n",
       "      <td>[-0.10571435730939427]</td>\n",
       "      <td>None</td>\n",
       "    </tr>\n",
       "    <tr>\n",
       "      <th>4</th>\n",
       "      <td>[-0.71416569656196]</td>\n",
       "      <td>300</td>\n",
       "      <td>0.255016</td>\n",
       "      <td>0.255016</td>\n",
       "      <td>0.000000</td>\n",
       "      <td>[-0.2471145627870195]</td>\n",
       "      <td>None</td>\n",
       "    </tr>\n",
       "  </tbody>\n",
       "</table>\n",
       "</div>"
      ],
      "text/plain": [
       "                 position  temperature  totEnergy  totPotEnergy  totKinEnergy  \\\n",
       "0                   [0.1]          300   0.771444      0.005000      0.766444   \n",
       "1    [0.4912404531808705]          300   0.120659      0.120659      0.000000   \n",
       "2   [-0.3613367764655463]          300   0.065282      0.065282      0.000000   \n",
       "3  [-0.46705113377494056]          300   0.109068      0.109068      0.000000   \n",
       "4     [-0.71416569656196]          300   0.255016      0.255016      0.000000   \n",
       "\n",
       "                   dhdpos              velocity  \n",
       "0                   [0.1]  [1.2380983240393872]  \n",
       "1   [0.39124045318087053]                  None  \n",
       "2   [-0.8525772296464168]                  None  \n",
       "3  [-0.10571435730939427]                  None  \n",
       "4   [-0.2471145627870195]                  None  "
      ]
     },
     "execution_count": 4,
     "metadata": {},
     "output_type": "execute_result"
    }
   ],
   "source": [
    "traj = sys.getTrajectory()\n",
    "traj.head()"
   ]
  },
  {
   "cell_type": "code",
   "execution_count": 6,
   "metadata": {},
   "outputs": [],
   "source": [
    "sys.potential._set_no_type_check()"
   ]
  },
  {
   "cell_type": "code",
   "execution_count": 9,
   "metadata": {},
   "outputs": [
    {
     "name": "stdout",
     "output_type": "stream",
     "text": [
      "2.54 ms ± 144 µs per loop (mean ± std. dev. of 7 runs, 100 loops each)\n"
     ]
    }
   ],
   "source": [
    "%%timeit\n",
    "sys.simulate(steps=steps)"
   ]
  },
  {
   "cell_type": "code",
   "execution_count": 18,
   "metadata": {},
   "outputs": [],
   "source": [
    "sys.potential.set_singlePos_mode()"
   ]
  },
  {
   "cell_type": "code",
   "execution_count": 19,
   "metadata": {},
   "outputs": [
    {
     "name": "stdout",
     "output_type": "stream",
     "text": [
      "2.56 ms ± 64.8 µs per loop (mean ± std. dev. of 7 runs, 100 loops each)\n"
     ]
    }
   ],
   "source": [
    "%%timeit\n",
    "sys.simulate(steps=steps)"
   ]
  },
  {
   "cell_type": "markdown",
   "metadata": {},
   "source": [
    "# History of Performance\n",
    "## Monte Carlo Perturbed 2 HarmoicOsc 1D\n",
    "\n",
    "   * start:\n",
    "     * Steps 100:  4.24 ms ± 675 µs per loop (mean ± std. dev. of 7 runs, 100 loops each)\n",
    "     * Steps 1000: 37.9 ms ± 374 µs per loop (mean ± std. dev. of 7 runs, 10 loops each)\n",
    "     * Steps 10000: 417 ms ± 12.3 ms per loop (mean ± std. dev. of 7 runs, 1 loop each)\n",
    "         "
   ]
  },
  {
   "cell_type": "code",
   "execution_count": 21,
   "metadata": {},
   "outputs": [],
   "source": [
    "#prepare Lambd\n",
    "integ = integrator.monteCarloIntegrator()\n",
    "ha = potentials.OneD.harmonicOsc(x_shift=-5)\n",
    "hb = potentials.OneD.harmonicOsc(x_shift=5)\n",
    "potential = potentials.OneD.linCoupledHosc(ha=ha, hb=hb)\n",
    "\n",
    "temperature = 300\n",
    "position = [0]\n",
    "lam = 0\n",
    "\n",
    "sys = system.perturbedSystem(potential=potential, integrator=integ, position=position, temperature=temperature, lam=lam)\n",
    "\n",
    "steps=100\n"
   ]
  },
  {
   "cell_type": "code",
   "execution_count": 26,
   "metadata": {},
   "outputs": [
    {
     "name": "stdout",
     "output_type": "stream",
     "text": [
      "4.94 ms ± 668 µs per loop (mean ± std. dev. of 7 runs, 100 loops each)\n"
     ]
    }
   ],
   "source": [
    "%%timeit\n",
    "sys.simulate(steps=steps, initSystem=False, withdrawTraj=True)  #withdrawTraj is needed in the context because of the interaction between different Tests"
   ]
  },
  {
   "cell_type": "code",
   "execution_count": 27,
   "metadata": {},
   "outputs": [],
   "source": [
    "sys.potential._set_no_type_check()"
   ]
  },
  {
   "cell_type": "code",
   "execution_count": 28,
   "metadata": {},
   "outputs": [
    {
     "name": "stdout",
     "output_type": "stream",
     "text": [
      "4.36 ms ± 148 µs per loop (mean ± std. dev. of 7 runs, 100 loops each)\n"
     ]
    }
   ],
   "source": [
    "%%timeit\n",
    "sys.simulate(steps=steps, initSystem=False, withdrawTraj=True)  #withdrawTraj is needed in the context because of the interaction between different Tests"
   ]
  },
  {
   "cell_type": "markdown",
   "metadata": {},
   "source": [
    "# History of Performance\n",
    "## EDS Potential 1D Harmonic Osc\n",
    "\n",
    "   * start:\n",
    "     * Steps 100: 2.4 ms ± 352 µs per loop (mean ± std. dev. of 7 runs, 100 loops each)\n",
    "     * Steps 1000: 18.6 ms ± 453 µs per loop (mean ± std. dev. of 7 runs, 10 loops each)\n",
    "     * Steps 10000: 212 ms ± 24.1 ms per loop (mean ± std. dev. of 7 runs, 1 loop each)\n",
    "         "
   ]
  },
  {
   "cell_type": "code",
   "execution_count": 2,
   "metadata": {},
   "outputs": [],
   "source": [
    "\n",
    "##Construct potential\n",
    "s=1\n",
    "Eoffs=(0, 0)\n",
    "V_is=[potentials.OneD.harmonicOsc(x_shift=10, fc=5), potentials.OneD.harmonicOsc(x_shift=-10, fc=5)]\n",
    "eds_pot = potentials.OneD.envelopedPotential(V_is=V_is, s=s, Eoff_i=Eoffs)\n",
    "\n",
    "##Parameters\n",
    "positions = np.linspace(-25,25, 10000)\n"
   ]
  },
  {
   "cell_type": "code",
   "execution_count": 3,
   "metadata": {},
   "outputs": [
    {
     "name": "stdout",
     "output_type": "stream",
     "text": [
      "195 ms ± 19.6 ms per loop (mean ± std. dev. of 7 runs, 1 loop each)\n"
     ]
    }
   ],
   "source": [
    "%%timeit\n",
    "energies = eds_pot.ene(positions)\n"
   ]
  },
  {
   "cell_type": "code",
   "execution_count": 4,
   "metadata": {},
   "outputs": [],
   "source": [
    "eds_pot._set_no_type_check()"
   ]
  },
  {
   "cell_type": "code",
   "execution_count": 5,
   "metadata": {},
   "outputs": [
    {
     "name": "stdout",
     "output_type": "stream",
     "text": [
      "47.9 µs ± 3.68 µs per loop (mean ± std. dev. of 7 runs, 10000 loops each)\n"
     ]
    }
   ],
   "source": [
    "%%timeit\n",
    "energies = eds_pot.ene(positions)\n"
   ]
  },
  {
   "cell_type": "markdown",
   "metadata": {},
   "source": [
    "# History of Performance\n",
    "## EDS Potential ND Harmonic Osc\n",
    "\n",
    "   * start:\n",
    "     * Steps 100: 877 µs ± 93.7 µs per loop (mean ± std. dev. of 7 runs, 1000 loops each)\n",
    "     * Steps 1000: 8.14 ms ± 714 µs per loop (mean ± std. dev. of 7 runs, 10 loops each)\n",
    "     * Steps 10000: 79.2 ms ± 8.45 ms per loop (mean ± std. dev. of 7 runs, 10 loops each)\n",
    "     * Steps 100000: 736 ms ± 61.1 ms per loop (mean ± std. dev. of 7 runs, 1 loop each)\n",
    "\n",
    "         "
   ]
  },
  {
   "cell_type": "code",
   "execution_count": null,
   "metadata": {},
   "outputs": [],
   "source": [
    "##Construct potential\n",
    "s=1\n",
    "Eoffs=(0, 0)\n",
    "V_is=[pot.ND.harmonicOscND(x_shift=10, fc=5), pot.ND.harmonicOscND(x_shift=-10, fc=5)]\n",
    "eds_pot = pot.ND.envelopedPotential(V_is=V_is, s=s, Eoff_i=Eoffs)\n",
    "\n",
    "##Parameters0\n",
    "positions = np.array(np.linspace(-25,25, 10000))\n"
   ]
  },
  {
   "cell_type": "code",
   "execution_count": null,
   "metadata": {},
   "outputs": [],
   "source": [
    "%%timeit\n",
    "energies = eds_pot.ene(positions)\n"
   ]
  },
  {
   "cell_type": "code",
   "execution_count": null,
   "metadata": {},
   "outputs": [],
   "source": [
    "energies = eds_pot.ene(positions)\n",
    "\n",
    "print(energies)"
   ]
  },
  {
   "cell_type": "code",
   "execution_count": null,
   "metadata": {},
   "outputs": [],
   "source": []
  }
 ],
 "metadata": {
  "kernelspec": {
   "display_name": "Python 3",
   "language": "python",
   "name": "python3"
  },
  "language_info": {
   "codemirror_mode": {
    "name": "ipython",
    "version": 3
   },
   "file_extension": ".py",
   "mimetype": "text/x-python",
   "name": "python",
   "nbconvert_exporter": "python",
   "pygments_lexer": "ipython3",
   "version": "3.7.3"
  }
 },
 "nbformat": 4,
 "nbformat_minor": 4
}
