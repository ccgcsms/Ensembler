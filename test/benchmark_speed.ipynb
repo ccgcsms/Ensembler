{
 "cells": [
  {
   "cell_type": "code",
   "execution_count": 4,
   "metadata": {},
   "outputs": [
    {
     "name": "stdout",
     "output_type": "stream",
     "text": [
      "C:\\Users\\benja\\OneDrive - ETHZ\\PhD\\Projects\\code/../..\n"
     ]
    }
   ],
   "source": [
    "#PATH VAR\n",
    "import os, sys\n",
    "my_path = os.getcwd()+\"/../..\"\n",
    "print(my_path)\n",
    "sys.path.append(my_path)\n",
    "os.chdir(my_path)\n",
    "\n",
    "#IMPORT\n",
    "import numpy as np\n",
    "\n",
    "from Ensembler.src import potentials as pot\n",
    "from Ensembler.src import system, integrator"
   ]
  },
  {
   "cell_type": "markdown",
   "metadata": {},
   "source": [
    "# History of Performance\n",
    "## Monte Carlo HarmoicOsc 1D\n",
    "\n",
    "   * start:\n",
    "     * Steps 100:  2.74 ms ± 33.4 µs per loop (mean ± std. dev. of 7 runs, 100 loops each)\n",
    "     * Steps 1000: 27.4 ms ± 258 µs per loop (mean ± std. dev. of 7 runs, 10 loops each)\n",
    "     * Steps 10000: 273 ms ± 2.97 ms per loop (mean ± std. dev. of 7 runs, 1 loop each)\n",
    "\n",
    "         "
   ]
  },
  {
   "cell_type": "code",
   "execution_count": 17,
   "metadata": {},
   "outputs": [],
   "source": [
    "#prepare:\n",
    "integ = integrator.monteCarloIntegrator()\n",
    "pot = potentials.OneD.harmonicOsc1D()\n",
    "conditions = []\n",
    "temperature = 300\n",
    "position = [0.1]\n",
    "mass = [1]\n",
    "steps = 1000\n",
    "\n",
    "sys = system.system(potential=pot, integrator=integ, position=position, temperature=temperature)"
   ]
  },
  {
   "cell_type": "code",
   "execution_count": 14,
   "metadata": {},
   "outputs": [
    {
     "name": "stdout",
     "output_type": "stream",
     "text": [
      "26.5 ms ± 763 µs per loop (mean ± std. dev. of 7 runs, 10 loops each)\n"
     ]
    }
   ],
   "source": [
    "%%timeit\n",
    "sys.simulate(steps=steps)"
   ]
  },
  {
   "cell_type": "markdown",
   "metadata": {},
   "source": [
    "# History of Performance\n",
    "## Monte Carlo Perturbed 2 HarmoicOsc 1D\n",
    "\n",
    "   * start:\n",
    "     * Steps 100:  4.24 ms ± 675 µs per loop (mean ± std. dev. of 7 runs, 100 loops each)\n",
    "     * Steps 1000: 37.9 ms ± 374 µs per loop (mean ± std. dev. of 7 runs, 10 loops each)\n",
    "     * Steps 10000: 417 ms ± 12.3 ms per loop (mean ± std. dev. of 7 runs, 1 loop each)\n",
    "         "
   ]
  },
  {
   "cell_type": "code",
   "execution_count": 8,
   "metadata": {},
   "outputs": [],
   "source": [
    "#prepare Lambd\n",
    "integ = integrator.monteCarloIntegrator()\n",
    "ha = potentials.OneD.harmonicOsc1D(x_shift=-5)\n",
    "hb = potentials.OneD.harmonicOsc1D(x_shift=5)\n",
    "pot = potentials.OneD.linCoupledHosc(ha=ha, hb=hb)\n",
    "\n",
    "temperature = 300\n",
    "position = [0]\n",
    "lam = 0\n",
    "\n",
    "sys = system.perturbedSystem(potential=pot, integrator=integ, position=position, temperature=temperature, lam=lam)\n",
    "\n",
    "steps=10000\n"
   ]
  },
  {
   "cell_type": "code",
   "execution_count": 9,
   "metadata": {},
   "outputs": [
    {
     "name": "stdout",
     "output_type": "stream",
     "text": [
      "Progress: \t0%\t10%\t20%\t30%\t40%\t50%\t60%\t70%\t80%\t90%\t100%\n",
      "Progress: \t0%\t10%\t20%\t30%\t40%\t50%\t60%\t70%\t80%\t90%\t100%\n",
      "Progress: \t0%\t10%\t20%\t30%\t40%\t50%\t60%\t70%\t80%\t90%\t100%\n",
      "Progress: \t0%\t10%\t20%\t30%\t40%\t50%\t60%\t70%\t80%\t90%\t100%\n",
      "Progress: \t0%\t10%\t20%\t30%\t40%\t50%\t60%\t70%\t80%\t90%\t100%\n",
      "Progress: \t0%\t10%\t20%\t30%\t40%\t50%\t60%\t70%\t80%\t90%\t100%\n",
      "Progress: \t0%\t10%\t20%\t30%\t40%\t50%\t60%\t70%\t80%\t90%\t100%\n",
      "Progress: \t0%\t10%\t20%\t30%\t40%\t50%\t60%\t70%\t80%\t90%\t100%\n",
      "417 ms ± 12.3 ms per loop (mean ± std. dev. of 7 runs, 1 loop each)\n"
     ]
    }
   ],
   "source": [
    "%%timeit\n",
    "sys.simulate(steps=steps, initSystem=False, withdrawTraj=True)  #withdrawTraj is needed in the context because of the interaction between different Tests"
   ]
  },
  {
   "cell_type": "markdown",
   "metadata": {},
   "source": [
    "# History of Performance\n",
    "## EDS Potential 1D Harmonic Osc\n",
    "\n",
    "   * start:\n",
    "     * Steps 100: 4.61 ms ± 636 µs per loop (mean ± std. dev. of 7 runs, 100 loops each)\n",
    "     * Steps 1000: 38.5 ms ± 1.85 ms per loop (mean ± std. dev. of 7 runs, 10 loops each)\n",
    "     * Steps 10000: 506 ms ± 25.6 ms per loop (mean ± std. dev. of 7 runs, 1 loop each)\n",
    "         "
   ]
  },
  {
   "cell_type": "code",
   "execution_count": 7,
   "metadata": {},
   "outputs": [],
   "source": [
    "\n",
    "##Construct potential\n",
    "s=1\n",
    "Eoffs=(0, 0)\n",
    "V_is=[pot.OneD.harmonicOsc(x_shift=10, fc=5), pot.OneD.harmonicOsc(x_shift=-10, fc=5)]\n",
    "eds_pot = pot.OneD.envelopedPotential(V_is=V_is, s=s, Eoff_i=Eoffs)\n",
    "\n",
    "##Parameters\n",
    "positions = np.linspace(-25,25, 1000)\n"
   ]
  },
  {
   "cell_type": "code",
   "execution_count": 8,
   "metadata": {},
   "outputs": [
    {
     "name": "stdout",
     "output_type": "stream",
     "text": [
      "35.9 ms ± 976 µs per loop (mean ± std. dev. of 7 runs, 10 loops each)\n"
     ]
    }
   ],
   "source": [
    "%%timeit\n",
    "energies = eds_pot.ene(positions)\n"
   ]
  },
  {
   "cell_type": "markdown",
   "metadata": {},
   "source": [
    "# History of Performance\n",
    "## EDS Potential ND Harmonic Osc\n",
    "\n",
    "   * start:\n",
    "     * Steps 100: 877 µs ± 93.7 µs per loop (mean ± std. dev. of 7 runs, 1000 loops each)\n",
    "     * Steps 1000: 8.14 ms ± 714 µs per loop (mean ± std. dev. of 7 runs, 10 loops each)\n",
    "     * Steps 10000: 79.2 ms ± 8.45 ms per loop (mean ± std. dev. of 7 runs, 10 loops each)\n",
    "     * Steps 100000: 904 ms ± 97.9 ms per loop (mean ± std. dev. of 7 runs, 1 loop each)\n",
    "\n",
    "         "
   ]
  },
  {
   "cell_type": "code",
   "execution_count": 9,
   "metadata": {},
   "outputs": [],
   "source": [
    "##Construct potential\n",
    "s=1\n",
    "Eoffs=(0, 0)\n",
    "V_is=[pot.ND.harmonicOscND(x_shift=10, fc=5), pot.ND.harmonicOscND(x_shift=-10, fc=5)]\n",
    "eds_pot = pot.ND.envelopedPotential(V_is=V_is, s=s, Eoff_i=Eoffs)\n",
    "\n",
    "##Parameters0\n",
    "positions = np.array(np.linspace(-25,25, 100000))\n"
   ]
  },
  {
   "cell_type": "code",
   "execution_count": 10,
   "metadata": {},
   "outputs": [
    {
     "name": "stdout",
     "output_type": "stream",
     "text": [
      "904 ms ± 97.9 ms per loop (mean ± std. dev. of 7 runs, 1 loop each)\n"
     ]
    }
   ],
   "source": [
    "%%timeit\n",
    "energies = eds_pot.ene(positions)\n"
   ]
  },
  {
   "cell_type": "code",
   "execution_count": 40,
   "metadata": {},
   "outputs": [
    {
     "name": "stdout",
     "output_type": "stream",
     "text": [
      "[[5.62500000e+02 5.25258902e+02 4.89293184e+02 4.54602847e+02\n",
      "  4.21187889e+02 3.89048311e+02 3.58184114e+02 3.28595296e+02\n",
      "  3.00281859e+02 2.73243802e+02 2.47481124e+02 2.22993827e+02\n",
      "  1.99781910e+02 1.77845373e+02 1.57184216e+02 1.37798439e+02\n",
      "  1.19688042e+02 1.02853025e+02 8.72933884e+01 7.30091317e+01\n",
      "  6.00002551e+01 4.82667585e+01 3.78086420e+01 2.86259055e+01\n",
      "  2.07185491e+01 1.40865728e+01 8.72997653e+00 4.64876033e+00\n",
      "  1.84292419e+00 3.12468115e-01 5.73921028e-02 1.07769615e+00\n",
      "  3.37338027e+00 6.94444444e+00 1.17908887e+01 1.79127130e+01\n",
      "  2.53099174e+01 3.39825018e+01 4.39304663e+01 5.51538108e+01\n",
      "  6.76525355e+01 8.14266401e+01 9.64761249e+01 1.12800990e+02\n",
      "  1.30401235e+02 1.49276860e+02 1.69427865e+02 1.90854250e+02\n",
      "  2.13556015e+02 2.37533160e+02 2.37533160e+02 2.13556015e+02\n",
      "  1.90854250e+02 1.69427865e+02 1.49276860e+02 1.30401235e+02\n",
      "  1.12800990e+02 9.64761249e+01 8.14266401e+01 6.76525355e+01\n",
      "  5.51538108e+01 4.39304663e+01 3.39825018e+01 2.53099174e+01\n",
      "  1.79127130e+01 1.17908887e+01 6.94444444e+00 3.37338027e+00\n",
      "  1.07769615e+00 5.73921028e-02 3.12468115e-01 1.84292419e+00\n",
      "  4.64876033e+00 8.72997653e+00 1.40865728e+01 2.07185491e+01\n",
      "  2.86259055e+01 3.78086420e+01 4.82667585e+01 6.00002551e+01\n",
      "  7.30091317e+01 8.72933884e+01 1.02853025e+02 1.19688042e+02\n",
      "  1.37798439e+02 1.57184216e+02 1.77845373e+02 1.99781910e+02\n",
      "  2.22993827e+02 2.47481124e+02 2.73243802e+02 3.00281859e+02\n",
      "  3.28595296e+02 3.58184114e+02 3.89048311e+02 4.21187889e+02\n",
      "  4.54602847e+02 4.89293184e+02 5.25258902e+02 5.62500000e+02]]\n"
     ]
    }
   ],
   "source": [
    "energies = eds_pot.ene(positions)\n",
    "\n",
    "print(energies)"
   ]
  },
  {
   "cell_type": "code",
   "execution_count": null,
   "metadata": {},
   "outputs": [],
   "source": []
  }
 ],
 "metadata": {
  "kernelspec": {
   "display_name": "Python 3",
   "language": "python",
   "name": "python3"
  },
  "language_info": {
   "codemirror_mode": {
    "name": "ipython",
    "version": 3
   },
   "file_extension": ".py",
   "mimetype": "text/x-python",
   "name": "python",
   "nbconvert_exporter": "python",
   "pygments_lexer": "ipython3",
   "version": "3.7.3"
  }
 },
 "nbformat": 4,
 "nbformat_minor": 4
}
